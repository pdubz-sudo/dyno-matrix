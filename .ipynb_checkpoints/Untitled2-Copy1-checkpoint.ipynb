{
 "cells": [
  {
   "cell_type": "code",
   "execution_count": 1,
   "metadata": {
    "collapsed": true
   },
   "outputs": [],
   "source": [
    "import numpy as np\n",
    "matrix = np.array([\n",
    "    [5, 3, 0, 1],\n",
    "    [4, 0, 0, 1],\n",
    "    [1, 1, 0, 5],\n",
    "    [1, 0, 0, 4],\n",
    "    [0, 1, 5, 4],\n",
    "])\n",
    "K=4\n",
    "alpha = 0.09\n",
    "beta = 0.001\n",
    "iterations = 2000\n",
    "\n",
    "time_intervals = matrix.shape[0]\n",
    "regions = matrix.shape[1]"
   ]
  },
  {
   "cell_type": "code",
   "execution_count": 2,
   "metadata": {
    "collapsed": true
   },
   "outputs": [],
   "source": [
    "def non_zero(array_2d, time_intervals):\n",
    "    '''Returns indexes(i,j) and of non-zeros and their value which will \n",
    "    be used for learning the latent features.\n",
    "    \n",
    "    Arguments:\n",
    "    array_2d -- 2D array\n",
    "    time_intervals -- int, number of rows for time interval axis of array.\n",
    "    \n",
    "    return non_zero_examples -- Returns (i, j, value)\n",
    "    '''\n",
    "    \n",
    "    non_zero_examples = []\n",
    "    for i in range(time_intervals):\n",
    "        for j in range(regions):\n",
    "            if array_2d[i, j] != 0:  ####### maybe change to >0\n",
    "                non_zero_examples.append((i, j, array_2d[i,j]))\n",
    "\n",
    "    return non_zero_examples"
   ]
  },
  {
   "cell_type": "code",
   "execution_count": 3,
   "metadata": {
    "collapsed": true
   },
   "outputs": [],
   "source": [
    "### trying taking out b\n",
    "\n",
    "def get_dynamic_feature(i, j, b, b_time_intervals, b_regions, P, Q):\n",
    "    '''Does a vector multiplication of a slice from P and Q which results in \n",
    "    a prediction for that sample from the 2d array; multiplying 2 vectors results\n",
    "    in a single value.\n",
    "    \n",
    "    i -- int, index of time_intervals axis.\n",
    "    j -- int, index of regions axis.\n",
    "    \n",
    "    Returns:\n",
    "    sample_prediction -- float, prediction of that at array_2d[i, j].'''\n",
    "    \n",
    "    sample_prediction = b \\\n",
    "    + b_time_intervals[i] \\\n",
    "    + b_regions[j] \\\n",
    "    + np.dot(P[i, :], Q[j, :].T)\n",
    "    \n",
    "    return sample_prediction"
   ]
  },
  {
   "cell_type": "code",
   "execution_count": 4,
   "metadata": {
    "collapsed": true
   },
   "outputs": [],
   "source": [
    "def stochastic_grad_descent(non_zero_examples, b, b_time_intervals, b_regions, P, Q, alpha, beta):\n",
    "    '''Performs updates using gradient descent for each example.\n",
    "    \n",
    "    Arguments:\n",
    "    non_zero_examples -- list of tuples, (i, j, r-value)\n",
    "    \n",
    "    Return:\n",
    "    Will not return anything. Instead it is updating biases and latent matrices.'''\n",
    "    for i, j, r in non_zero_examples:\n",
    "        example_pred = get_dynamic_feature(i, j, b, b_time_intervals, b_regions, P, Q)\n",
    "        example_error = r - example_pred\n",
    "        \n",
    "        # Update biases\n",
    "        b_time_intervals[i] += alpha * (example_error - beta*b_time_intervals[i])\n",
    "        b_regions[j] += alpha * (example_error - beta*b_regions[j])\n",
    "        \n",
    "        # Update time interval and region latent feature matrices\n",
    "        P[i, :] += alpha * (2*example_error*Q[j, :] - beta*P[i, :])  \n",
    "        Q[j, :] += alpha * (2*example_error*P[i, :] - beta*Q[j, :])  "
   ]
  },
  {
   "cell_type": "code",
   "execution_count": 5,
   "metadata": {
    "collapsed": true
   },
   "outputs": [],
   "source": [
    "def dynamic_features_array(b, b_time_intervals, b_regions, P, Q):\n",
    "    '''Creates dynamic features array by matrix multiplying the latent matrices\n",
    "    and adding the biases and mean.\n",
    "    \n",
    "    Arguments:\n",
    "    b -- float, mean.\n",
    "    b_time_intervals -- biases for time_intervals axis.\n",
    "    b_regions -- biases for region axis.\n",
    "    P -- 2d array, latent feature array shape(timeintervals, K).\n",
    "    Q --2d array, latene feature array shape(regions, K)\n",
    "    \n",
    "    Return:\n",
    "    Predicted_r_array -- dynamic feature matrix.'''\n",
    "    \n",
    "    predicted_r_array = b \\\n",
    "    + b_time_intervals.reshape(-1, 1) \\\n",
    "    + b_regions.reshape(1, -1) \\\n",
    "    + np.dot(P, Q.T)\n",
    "    \n",
    "    return predicted_r_array"
   ]
  },
  {
   "cell_type": "code",
   "execution_count": 6,
   "metadata": {
    "collapsed": true
   },
   "outputs": [],
   "source": [
    "def cost_function(array_2d, b, b_time_intervals, b_regions, P, Q, beta):\n",
    "    '''Sum of squares error plus reguarlization terms which will be minimized.\n",
    "    \n",
    "    Arguments:\n",
    "    array_2d -- 2d array, original array before dynamic features are added.\n",
    "    b -- float, mean.\n",
    "    b_time_intervals -- biases for time_intervals axis.\n",
    "    b_regions -- biases for region axis.\n",
    "    P -- 2d array, latent feature array shape(timeintervals, K).\n",
    "    Q --2d array, latene feature array shape(regions, K)\n",
    "    \n",
    "    Return:\n",
    "    cost -- float, cost.\n",
    "    '''\n",
    "    x_index, y_index = array_2d.nonzero()\n",
    "    pred_2d_array = dynamic_features_array(b, b_time_intervals, b_regions, P, Q)\n",
    "    squared_diff = 0\n",
    "    for x, y in zip(x_index, y_index):\n",
    "        squared_diff += (array_2d[x, y] - pred_2d_array[x, y])**2\n",
    "    reg_P = (beta/2)*sum(sum(P**2))\n",
    "    reg_Q = (beta/2)*sum(sum(Q**2))\n",
    "    cost = squared_diff/2 + reg_P + reg_Q  \n",
    "    \n",
    "    return cost"
   ]
  },
  {
   "cell_type": "code",
   "execution_count": null,
   "metadata": {},
   "outputs": [],
   "source": [
    "time_intervals = matrix.shape[0]\n",
    "regions = matrix.shape[1]\n",
    "\n",
    "P = np.random.normal(scale=1/K, size=(time_intervals, K))\n",
    "Q = np.random.normal(scale=1/K, size=(regions, K))\n",
    "\n",
    "\n",
    "b_time_intervals = np.zeros(time_intervals)\n",
    "b_regions = np.zeros(regions)\n",
    "b = np.mean(matrix[np.where(matrix!=0)])\n",
    "\n",
    "costs = []\n",
    "non_zero_examples = non_zero(matrix, time_intervals)\n",
    "for i in range(iterations):\n",
    "    np.random.shuffle(non_zero_examples)\n",
    "    \n",
    "    # Update latent matrices. This function will not return anything\n",
    "    # and will perform the updates from gradient descent.\n",
    "    stochastic_grad_descent(non_zero_examples)\n",
    "    cost = cost_function(matrix, b, b_time_intervals, b_regions, P, Q)\n",
    "    costs.append(cost)\n",
    "    if i % 100 == 0:\n",
    "        print('Loss after iteration {}: {:.05f}'.format(i, cost))"
   ]
  },
  {
   "cell_type": "code",
   "execution_count": null,
   "metadata": {
    "collapsed": true
   },
   "outputs": [],
   "source": []
  },
  {
   "cell_type": "code",
   "execution_count": null,
   "metadata": {
    "collapsed": true
   },
   "outputs": [],
   "source": []
  },
  {
   "cell_type": "code",
   "execution_count": 57,
   "metadata": {
    "collapsed": true
   },
   "outputs": [],
   "source": [
    "def model(array_2d, K=5, alpha=0.09, beta=0.001, epochs=25, print_cost=True):\n",
    "    '''This model creates a dynamic features matrix by taking a sparse matrix and learning latent features.\n",
    "    Two matrices are created, randomly initiaized, and trained. Their dot product is similar to the original \n",
    "    sparse matrix except that the latent features also find similarities and add dynamic features to the original matrix.\n",
    "    \n",
    "    Arguments:\n",
    "    array_2d -- 2d array, I call it array because the actual input is a numpy array.\n",
    "    K -- int, dimension of matrix factorization ie. shape(regions, K).\n",
    "    alpha -- float, learning rate for cost function (not the regularization term).\n",
    "    beta -- float, learning rate for regularization term.\n",
    "    epochs -- int, number of epochs for training.\n",
    "    print_cost -- boolean, specifies if costs and plotting of learning rate will be turned on.\n",
    "    \n",
    "    dynamic_features -- 2d array, array with dynamic features.\n",
    "    costs -- if print_cost is true then there will be costs in a list.'''\n",
    "    \n",
    "    # Get shape (time_intervals, regions)\n",
    "    time_intervals = array_2d.shape[0]\n",
    "    regions = array_2d.shape[1]\n",
    "    \n",
    "    # Matrix Factorization\n",
    "    P = np.random.normal(scale=1/K, size=(time_intervals, K))\n",
    "    Q = np.random.normal(scale=1/K, size=(regions, K))\n",
    "\n",
    "\n",
    "    b_time_intervals = np.zeros(time_intervals)\n",
    "    b_regions = np.zeros(regions)\n",
    "    b = np.mean(array_2d[np.where(array_2d!=0)])\n",
    "    \n",
    "    non_zero_examples = non_zero(array_2d, time_intervals)\n",
    "    \n",
    "    costs = []\n",
    "    \n",
    "    for i in range(iterations):\n",
    "        np.random.shuffle(non_zero_examples)\n",
    "        \n",
    "        # Update latent matrices. This function will not return anything\n",
    "        # and will perform the updates from gradient descent.\n",
    "        stochastic_grad_descent(non_zero_examples, b, b_time_intervals, b_regions,\n",
    "                               P, Q, alpha, beta)\n",
    "        cost = cost_function(array_2d, b, b_time_intervals, b_regions, P, Q, beta)\n",
    "        \n",
    "        if (i % 100 == 0) & (print_cost == True):\n",
    "            print('Loss after iteration {}: {:.05f}'.format(i, cost))\n",
    "        if (i % 5 == 0) & (print_cost == True):\n",
    "            costs.append(cost)\n",
    "            \n",
    "    dynamic_features = dynamic_features_array(b, b_time_intervals, b_regions, P, Q)\n",
    "      \n",
    "    if print_cost == True:\n",
    "        plt.plot(costs)\n",
    "        plt.ylabel('cost')\n",
    "        plt.xlabel('iterations')\n",
    "        plt.title('learning rate = alpha: {}, beta: {}'.format(alpha, beta))\n",
    "                \n",
    "    return dynamic_features, costs"
   ]
  },
  {
   "cell_type": "code",
   "execution_count": 67,
   "metadata": {},
   "outputs": [],
   "source": [
    "test = model(matrix, K=5, alpha=0.0009, beta=0.001, iterations=2000, print_cost=False)\n"
   ]
  },
  {
   "cell_type": "code",
   "execution_count": 69,
   "metadata": {},
   "outputs": [
    {
     "data": {
      "text/plain": [
       "(array([[ 4.9962537 ,  3.00121548,  3.13218074,  0.99835592],\n",
       "        [ 4.00222559,  1.9285024 ,  2.87683056,  1.00279667],\n",
       "        [ 0.99798872,  1.00182615,  3.89956505,  4.99696361],\n",
       "        [ 1.0024254 ,  2.08308903,  2.73244663,  4.00128961],\n",
       "        [ 3.06392923,  1.00017569,  4.99895719,  4.00022956]]), [])"
      ]
     },
     "execution_count": 69,
     "metadata": {},
     "output_type": "execute_result"
    }
   ],
   "source": [
    "test"
   ]
  },
  {
   "cell_type": "code",
   "execution_count": 52,
   "metadata": {},
   "outputs": [
    {
     "data": {
      "text/plain": [
       "[<matplotlib.lines.Line2D at 0x29227ef54a8>]"
      ]
     },
     "execution_count": 52,
     "metadata": {},
     "output_type": "execute_result"
    },
    {
     "data": {
      "image/png": "[encoded data removed]",
      "text/plain": [
       "<matplotlib.figure.Figure at 0x292268c1358>"
      ]
     },
     "metadata": {},
     "output_type": "display_data"
    }
   ],
   "source": [
    "import matplotlib.pyplot as plt\n",
    "%matplotlib inline\n",
    "plt.plot(test)"
   ]
  },
  {
   "cell_type": "code",
   "execution_count": null,
   "metadata": {
    "collapsed": true
   },
   "outputs": [],
   "source": []
  },
  {
   "cell_type": "code",
   "execution_count": null,
   "metadata": {
    "collapsed": true
   },
   "outputs": [],
   "source": []
  }
 ],
 "metadata": {
  "kernelspec": {
   "display_name": "Python 3",
   "language": "python",
   "name": "python3"
  },
  "language_info": {
   "codemirror_mode": {
    "name": "ipython",
    "version": 3
   },
   "file_extension": ".py",
   "mimetype": "text/x-python",
   "name": "python",
   "nbconvert_exporter": "python",
   "pygments_lexer": "ipython3",
   "version": "3.5.4"
  }
 },
 "nbformat": 4,
 "nbformat_minor": 2
}
