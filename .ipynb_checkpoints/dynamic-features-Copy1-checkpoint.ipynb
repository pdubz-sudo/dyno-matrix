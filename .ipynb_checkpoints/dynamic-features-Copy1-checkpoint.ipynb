{
 "cells": [
  {
   "cell_type": "code",
   "execution_count": 1,
   "metadata": {
    "collapsed": true
   },
   "outputs": [],
   "source": [
    "import pandas as pd\n",
    "from datetime import datetime\n",
    "import numpy as np\n",
    "import matplotlib.pyplot as plt\n",
    "import geopandas\n",
    "import shapefile\n",
    "from collections import Counter\n",
    "from shapely.geometry import shape, Point\n",
    "# To install shapely\n",
    "# https://gis.stackexchange.com/questions/38899/geos-and-shapely-installation-on-windows/132743#132743\n",
    "# Download wheel file for the version of python that you use.\n",
    "# https://www.lfd.uci.edu/~gohlke/pythonlibs/#shapely\n",
    "# cd into the location of the wheel file\n",
    "# pip install wheel\n",
    "# pip install name_of_wheel_file.whl\n",
    "\n",
    "\n",
    "\n",
    "%matplotlib inline"
   ]
  },
  {
   "cell_type": "markdown",
   "metadata": {},
   "source": [
    "pip install geopandas didn't work. You have to install the wheels first.\n",
    "https://geoffboeing.com/2014/09/using-geopandas-windows/. Geopandas is able to read all the gis files and you can change the coordinate reference system easily from it.\n",
    "\n",
    "Use this site to get started http://matthewrocklin.com/blog/work/2017/09/21/accelerating-geopandas-1"
   ]
  },
  {
   "cell_type": "markdown",
   "metadata": {},
   "source": [
    "Foursquare data from Kaggle"
   ]
  },
  {
   "cell_type": "code",
   "execution_count": null,
   "metadata": {
    "collapsed": true
   },
   "outputs": [],
   "source": [
    "# # It will take a 1-2 minutes to load because of the data parser.\n",
    "# raw_fs = pd.read_csv(r'.\\data/dataset_TSMC2014_NYC.csv', parse_dates=['utcTimestamp'])\n",
    "# # Make a coordinate tuple. This is the format that compatible with the shape file read by geopandas.\n",
    "# raw_fs['coordinates'] = list(zip(raw_fs.loc[:,'longitude'], raw_fs.loc[:, 'latitude']))\n",
    "\n",
    "# boroughs = geopandas.read_file(r'.\\nyc_polygons\\nyu_2451_34510.shp').to_crs({'init': 'epsg:4326'})"
   ]
  },
  {
   "cell_type": "code",
   "execution_count": null,
   "metadata": {
    "collapsed": true
   },
   "outputs": [],
   "source": [
    "# # Create polygon boundry objects for each borough. Needed for the function below.\n",
    "# bronx = boroughs['geometry'][0]\n",
    "# brooklyn = boroughs['geometry'][1]\n",
    "# manhatten = boroughs['geometry'][2]\n",
    "# queens = boroughs['geometry'][3]\n",
    "# staten_island = boroughs['geometry'][4]\n",
    "\n",
    "\n",
    "\n",
    "# def find_borough(coord): \n",
    "#     '''Takes coordinate point and returns which nyc borough it belongs to. The boundaries are not\n",
    "#     an argument in the function so their objects must be created before the function is called.\n",
    "    \n",
    "#     Arguments:\n",
    "#     coord -- tuple, coordinates in format (longitude, latitude).\n",
    "    \n",
    "#     Return -- str, the coordinated borough.'''\n",
    "#     # Turn coordinate into a shapely point that can be checked if it's in a polygon.\n",
    "#     point = Point(coord)\n",
    "#     if bronx.contains(point) == True:\n",
    "#         return 'bronx'\n",
    "#     elif brooklyn.contains(point) == True:\n",
    "#         return 'brooklyn'\n",
    "#     elif manhatten.contains(point) == True:\n",
    "#         return 'manhatten'\n",
    "#     elif queens.contains(point) == True:\n",
    "#         return 'queens'\n",
    "#     elif staten_island.contains(point) == True:\n",
    "#         return 'staten_island'\n",
    "#     else:\n",
    "#         return 'other'"
   ]
  },
  {
   "cell_type": "code",
   "execution_count": null,
   "metadata": {
    "collapsed": true
   },
   "outputs": [],
   "source": [
    "# # Create column with coordinates borough.\n",
    "# raw_fs['borough'] = [find_borough(x) for x in raw_fs['coordinates']]\n",
    "\n",
    "\n",
    "# # There are none's because they are in New Jersey. Take them out.\n",
    "# df = raw_fs[raw_fs['borough']!='other']\n",
    "\n",
    "# # Turn borough's column into one-hots.\n",
    "# df = pd.concat([df, pd.get_dummies(df['borough'])], axis=1)\n",
    "\n",
    "# # Make space for memory.\n",
    "# del raw_fs"
   ]
  },
  {
   "cell_type": "code",
   "execution_count": null,
   "metadata": {
    "collapsed": true
   },
   "outputs": [],
   "source": [
    "# Save dataframe as pickle so you don't have to re-run all the code above again.\n",
    "# df.to_pickle(r'.\\data\\cleaned_df.pkl')"
   ]
  },
  {
   "cell_type": "code",
   "execution_count": 2,
   "metadata": {
    "collapsed": true
   },
   "outputs": [],
   "source": [
    "df = pd.read_pickle(r'.\\data\\cleaned_df.pkl')"
   ]
  },
  {
   "cell_type": "markdown",
   "metadata": {},
   "source": [
    "## Visitor Count: Number of unique user in region r at time interval t."
   ]
  },
  {
   "cell_type": "code",
   "execution_count": 8,
   "metadata": {
    "scrolled": true
   },
   "outputs": [
    {
     "name": "stdout",
     "output_type": "stream",
     "text": [
      "Number of time intervals:  1593\n"
     ]
    },
    {
     "data": {
      "text/html": [
       "<div>\n",
       "<style>\n",
       "    .dataframe thead tr:only-child th {\n",
       "        text-align: right;\n",
       "    }\n",
       "\n",
       "    .dataframe thead th {\n",
       "        text-align: left;\n",
       "    }\n",
       "\n",
       "    .dataframe tbody tr th {\n",
       "        vertical-align: top;\n",
       "    }\n",
       "</style>\n",
       "<table border=\"1\" class=\"dataframe\">\n",
       "  <thead>\n",
       "    <tr style=\"text-align: right;\">\n",
       "      <th>borough</th>\n",
       "      <th>bronx</th>\n",
       "      <th>brooklyn</th>\n",
       "      <th>manhatten</th>\n",
       "      <th>queens</th>\n",
       "      <th>staten_island</th>\n",
       "    </tr>\n",
       "    <tr>\n",
       "      <th>utcTimestamp</th>\n",
       "      <th></th>\n",
       "      <th></th>\n",
       "      <th></th>\n",
       "      <th></th>\n",
       "      <th></th>\n",
       "    </tr>\n",
       "  </thead>\n",
       "  <tbody>\n",
       "    <tr>\n",
       "      <th>2012-04-03 18:00:00</th>\n",
       "      <td>8.0</td>\n",
       "      <td>23.0</td>\n",
       "      <td>84.0</td>\n",
       "      <td>16.0</td>\n",
       "      <td>1.0</td>\n",
       "    </tr>\n",
       "    <tr>\n",
       "      <th>2012-04-03 21:00:00</th>\n",
       "      <td>8.0</td>\n",
       "      <td>36.0</td>\n",
       "      <td>152.0</td>\n",
       "      <td>27.0</td>\n",
       "      <td>2.0</td>\n",
       "    </tr>\n",
       "    <tr>\n",
       "      <th>2012-04-04 00:00:00</th>\n",
       "      <td>13.0</td>\n",
       "      <td>30.0</td>\n",
       "      <td>108.0</td>\n",
       "      <td>16.0</td>\n",
       "      <td>4.0</td>\n",
       "    </tr>\n",
       "    <tr>\n",
       "      <th>2012-04-04 03:00:00</th>\n",
       "      <td>4.0</td>\n",
       "      <td>20.0</td>\n",
       "      <td>32.0</td>\n",
       "      <td>13.0</td>\n",
       "      <td>1.0</td>\n",
       "    </tr>\n",
       "    <tr>\n",
       "      <th>2012-04-04 06:00:00</th>\n",
       "      <td>2.0</td>\n",
       "      <td>9.0</td>\n",
       "      <td>8.0</td>\n",
       "      <td>5.0</td>\n",
       "      <td>1.0</td>\n",
       "    </tr>\n",
       "  </tbody>\n",
       "</table>\n",
       "</div>"
      ],
      "text/plain": [
       "borough              bronx  brooklyn  manhatten  queens  staten_island\n",
       "utcTimestamp                                                          \n",
       "2012-04-03 18:00:00    8.0      23.0       84.0    16.0            1.0\n",
       "2012-04-03 21:00:00    8.0      36.0      152.0    27.0            2.0\n",
       "2012-04-04 00:00:00   13.0      30.0      108.0    16.0            4.0\n",
       "2012-04-04 03:00:00    4.0      20.0       32.0    13.0            1.0\n",
       "2012-04-04 06:00:00    2.0       9.0        8.0     5.0            1.0"
      ]
     },
     "execution_count": 8,
     "metadata": {},
     "output_type": "execute_result"
    }
   ],
   "source": [
    "visitor_count = df.groupby([pd.TimeGrouper(key='utcTimestamp', freq='3H'), 'borough'])['userId'].nunique().unstack(level=1)\n",
    "print('Number of time intervals: ', visitor_count.shape[0])\n",
    "visitor_count.head()"
   ]
  },
  {
   "cell_type": "markdown",
   "metadata": {},
   "source": [
    "## Observation Frequency: Number of check-ins in region r and its neighborhood at        time interval t."
   ]
  },
  {
   "cell_type": "code",
   "execution_count": 58,
   "metadata": {
    "scrolled": true
   },
   "outputs": [
    {
     "name": "stdout",
     "output_type": "stream",
     "text": [
      "Number of time intervals:  1593\n"
     ]
    },
    {
     "data": {
      "text/html": [
       "<div>\n",
       "<style>\n",
       "    .dataframe thead tr:only-child th {\n",
       "        text-align: right;\n",
       "    }\n",
       "\n",
       "    .dataframe thead th {\n",
       "        text-align: left;\n",
       "    }\n",
       "\n",
       "    .dataframe tbody tr th {\n",
       "        vertical-align: top;\n",
       "    }\n",
       "</style>\n",
       "<table border=\"1\" class=\"dataframe\">\n",
       "  <thead>\n",
       "    <tr style=\"text-align: right;\">\n",
       "      <th>borough</th>\n",
       "      <th>bronx</th>\n",
       "      <th>brooklyn</th>\n",
       "      <th>manhatten</th>\n",
       "      <th>queens</th>\n",
       "      <th>staten_island</th>\n",
       "    </tr>\n",
       "    <tr>\n",
       "      <th>utcTimestamp</th>\n",
       "      <th></th>\n",
       "      <th></th>\n",
       "      <th></th>\n",
       "      <th></th>\n",
       "      <th></th>\n",
       "    </tr>\n",
       "  </thead>\n",
       "  <tbody>\n",
       "    <tr>\n",
       "      <th>2012-04-03 18:00:00</th>\n",
       "      <td>14.0</td>\n",
       "      <td>36.0</td>\n",
       "      <td>127.0</td>\n",
       "      <td>26.0</td>\n",
       "      <td>1.0</td>\n",
       "    </tr>\n",
       "    <tr>\n",
       "      <th>2012-04-03 21:00:00</th>\n",
       "      <td>10.0</td>\n",
       "      <td>57.0</td>\n",
       "      <td>232.0</td>\n",
       "      <td>41.0</td>\n",
       "      <td>4.0</td>\n",
       "    </tr>\n",
       "    <tr>\n",
       "      <th>2012-04-04 00:00:00</th>\n",
       "      <td>15.0</td>\n",
       "      <td>47.0</td>\n",
       "      <td>159.0</td>\n",
       "      <td>22.0</td>\n",
       "      <td>7.0</td>\n",
       "    </tr>\n",
       "    <tr>\n",
       "      <th>2012-04-04 03:00:00</th>\n",
       "      <td>6.0</td>\n",
       "      <td>30.0</td>\n",
       "      <td>48.0</td>\n",
       "      <td>30.0</td>\n",
       "      <td>2.0</td>\n",
       "    </tr>\n",
       "    <tr>\n",
       "      <th>2012-04-04 06:00:00</th>\n",
       "      <td>3.0</td>\n",
       "      <td>23.0</td>\n",
       "      <td>16.0</td>\n",
       "      <td>5.0</td>\n",
       "      <td>2.0</td>\n",
       "    </tr>\n",
       "  </tbody>\n",
       "</table>\n",
       "</div>"
      ],
      "text/plain": [
       "borough              bronx  brooklyn  manhatten  queens  staten_island\n",
       "utcTimestamp                                                          \n",
       "2012-04-03 18:00:00   14.0      36.0      127.0    26.0            1.0\n",
       "2012-04-03 21:00:00   10.0      57.0      232.0    41.0            4.0\n",
       "2012-04-04 00:00:00   15.0      47.0      159.0    22.0            7.0\n",
       "2012-04-04 03:00:00    6.0      30.0       48.0    30.0            2.0\n",
       "2012-04-04 06:00:00    3.0      23.0       16.0     5.0            2.0"
      ]
     },
     "execution_count": 58,
     "metadata": {},
     "output_type": "execute_result"
    }
   ],
   "source": [
    "obs_freq = df.groupby([pd.TimeGrouper(key='utcTimestamp', freq='3H'), 'borough'])['userId'].count().unstack(level=1)\n",
    "print('Number of time intervals: ', obs_freq.shape[0])\n",
    "obs_freq.head()"
   ]
  },
  {
   "cell_type": "markdown",
   "metadata": {},
   "source": [
    "## Visitor entropy: Diversity of visitors in a location with respect to their visits."
   ]
  },
  {
   "cell_type": "code",
   "execution_count": 26,
   "metadata": {
    "scrolled": true
   },
   "outputs": [
    {
     "data": {
      "text/plain": [
       "borough  utcTimestamp         userId\n",
       "bronx    2012-04-03 18:00:00  267       3\n",
       "                              445       2\n",
       "                              562       3\n",
       "                              573       1\n",
       "                              620       1\n",
       "Name: venueId, dtype: int64"
      ]
     },
     "execution_count": 26,
     "metadata": {},
     "output_type": "execute_result"
    }
   ],
   "source": [
    "# You have do merge the user ids total number of visits to the region and then divide the \n",
    "# 2 columns to get the probability that they will be there at that time.\n",
    "test = df.groupby(['borough', pd.TimeGrouper(key='utcTimestamp', freq='3H'), 'userId']).count().iloc[:,0]\n",
    "test.head()"
   ]
  },
  {
   "cell_type": "code",
   "execution_count": 27,
   "metadata": {},
   "outputs": [
    {
     "data": {
      "text/plain": [
       "userId\n",
       "1    106\n",
       "2    150\n",
       "3    117\n",
       "4    173\n",
       "5     28\n",
       "Name: venueId, dtype: int64"
      ]
     },
     "execution_count": 27,
     "metadata": {},
     "output_type": "execute_result"
    }
   ],
   "source": [
    "# number of checkins per user\n",
    "test2 =df.groupby(['userId']).count().iloc[:,0]\n",
    "test2.head()"
   ]
  },
  {
   "cell_type": "code",
   "execution_count": 28,
   "metadata": {
    "collapsed": true,
    "scrolled": true
   },
   "outputs": [],
   "source": [
    "# Join on user id and now you have userid number of checkins in that time interval and \n",
    "# a column that shows their total checkins.\n",
    "test_df = pd.merge(test.reset_index(), test2.reset_index(), on=['userId']).rename(columns={'venueId_x': 'reg_time_visits', 'venueId_y': 'total_visits'})\n",
    "test_df.head()\n",
    "\n",
    "# Make room for memory\n",
    "del test, test2"
   ]
  },
  {
   "cell_type": "code",
   "execution_count": 29,
   "metadata": {},
   "outputs": [
    {
     "data": {
      "text/html": [
       "<div>\n",
       "<style>\n",
       "    .dataframe thead tr:only-child th {\n",
       "        text-align: right;\n",
       "    }\n",
       "\n",
       "    .dataframe thead th {\n",
       "        text-align: left;\n",
       "    }\n",
       "\n",
       "    .dataframe tbody tr th {\n",
       "        vertical-align: top;\n",
       "    }\n",
       "</style>\n",
       "<table border=\"1\" class=\"dataframe\">\n",
       "  <thead>\n",
       "    <tr style=\"text-align: right;\">\n",
       "      <th></th>\n",
       "      <th>borough</th>\n",
       "      <th>utcTimestamp</th>\n",
       "      <th>userId</th>\n",
       "      <th>reg_time_visits</th>\n",
       "      <th>total_visits</th>\n",
       "      <th>probability</th>\n",
       "    </tr>\n",
       "  </thead>\n",
       "  <tbody>\n",
       "    <tr>\n",
       "      <th>0</th>\n",
       "      <td>bronx</td>\n",
       "      <td>2012-04-03 18:00:00</td>\n",
       "      <td>267</td>\n",
       "      <td>3</td>\n",
       "      <td>497</td>\n",
       "      <td>0.006036</td>\n",
       "    </tr>\n",
       "    <tr>\n",
       "      <th>1</th>\n",
       "      <td>bronx</td>\n",
       "      <td>2012-04-04 03:00:00</td>\n",
       "      <td>267</td>\n",
       "      <td>3</td>\n",
       "      <td>497</td>\n",
       "      <td>0.006036</td>\n",
       "    </tr>\n",
       "    <tr>\n",
       "      <th>2</th>\n",
       "      <td>bronx</td>\n",
       "      <td>2012-04-04 12:00:00</td>\n",
       "      <td>267</td>\n",
       "      <td>2</td>\n",
       "      <td>497</td>\n",
       "      <td>0.004024</td>\n",
       "    </tr>\n",
       "    <tr>\n",
       "      <th>3</th>\n",
       "      <td>bronx</td>\n",
       "      <td>2012-04-05 12:00:00</td>\n",
       "      <td>267</td>\n",
       "      <td>2</td>\n",
       "      <td>497</td>\n",
       "      <td>0.004024</td>\n",
       "    </tr>\n",
       "    <tr>\n",
       "      <th>4</th>\n",
       "      <td>bronx</td>\n",
       "      <td>2012-04-07 18:00:00</td>\n",
       "      <td>267</td>\n",
       "      <td>4</td>\n",
       "      <td>497</td>\n",
       "      <td>0.008048</td>\n",
       "    </tr>\n",
       "  </tbody>\n",
       "</table>\n",
       "</div>"
      ],
      "text/plain": [
       "  borough        utcTimestamp  userId  reg_time_visits  total_visits  \\\n",
       "0   bronx 2012-04-03 18:00:00     267                3           497   \n",
       "1   bronx 2012-04-04 03:00:00     267                3           497   \n",
       "2   bronx 2012-04-04 12:00:00     267                2           497   \n",
       "3   bronx 2012-04-05 12:00:00     267                2           497   \n",
       "4   bronx 2012-04-07 18:00:00     267                4           497   \n",
       "\n",
       "   probability  \n",
       "0     0.006036  \n",
       "1     0.006036  \n",
       "2     0.004024  \n",
       "3     0.004024  \n",
       "4     0.008048  "
      ]
     },
     "execution_count": 29,
     "metadata": {},
     "output_type": "execute_result"
    }
   ],
   "source": [
    "# Get the probability that user will be at region at time interval.\n",
    "test_df['probability'] = test_df['reg_time_visits']/test_df['total_visits']\n",
    "test_df.head()"
   ]
  },
  {
   "cell_type": "code",
   "execution_count": 30,
   "metadata": {},
   "outputs": [
    {
     "data": {
      "text/html": [
       "<div>\n",
       "<style>\n",
       "    .dataframe thead tr:only-child th {\n",
       "        text-align: right;\n",
       "    }\n",
       "\n",
       "    .dataframe thead th {\n",
       "        text-align: left;\n",
       "    }\n",
       "\n",
       "    .dataframe tbody tr th {\n",
       "        vertical-align: top;\n",
       "    }\n",
       "</style>\n",
       "<table border=\"1\" class=\"dataframe\">\n",
       "  <thead>\n",
       "    <tr style=\"text-align: right;\">\n",
       "      <th></th>\n",
       "      <th>borough</th>\n",
       "      <th>utcTimestamp</th>\n",
       "      <th>userId</th>\n",
       "      <th>reg_time_visits</th>\n",
       "      <th>total_visits</th>\n",
       "      <th>probability</th>\n",
       "      <th>used_for_visitor_entropy</th>\n",
       "    </tr>\n",
       "  </thead>\n",
       "  <tbody>\n",
       "    <tr>\n",
       "      <th>0</th>\n",
       "      <td>bronx</td>\n",
       "      <td>2012-04-03 18:00:00</td>\n",
       "      <td>267</td>\n",
       "      <td>3</td>\n",
       "      <td>497</td>\n",
       "      <td>0.006036</td>\n",
       "      <td>0.044500</td>\n",
       "    </tr>\n",
       "    <tr>\n",
       "      <th>1</th>\n",
       "      <td>bronx</td>\n",
       "      <td>2012-04-04 03:00:00</td>\n",
       "      <td>267</td>\n",
       "      <td>3</td>\n",
       "      <td>497</td>\n",
       "      <td>0.006036</td>\n",
       "      <td>0.044500</td>\n",
       "    </tr>\n",
       "    <tr>\n",
       "      <th>2</th>\n",
       "      <td>bronx</td>\n",
       "      <td>2012-04-04 12:00:00</td>\n",
       "      <td>267</td>\n",
       "      <td>2</td>\n",
       "      <td>497</td>\n",
       "      <td>0.004024</td>\n",
       "      <td>0.032021</td>\n",
       "    </tr>\n",
       "    <tr>\n",
       "      <th>3</th>\n",
       "      <td>bronx</td>\n",
       "      <td>2012-04-05 12:00:00</td>\n",
       "      <td>267</td>\n",
       "      <td>2</td>\n",
       "      <td>497</td>\n",
       "      <td>0.004024</td>\n",
       "      <td>0.032021</td>\n",
       "    </tr>\n",
       "    <tr>\n",
       "      <th>4</th>\n",
       "      <td>bronx</td>\n",
       "      <td>2012-04-07 18:00:00</td>\n",
       "      <td>267</td>\n",
       "      <td>4</td>\n",
       "      <td>497</td>\n",
       "      <td>0.008048</td>\n",
       "      <td>0.055993</td>\n",
       "    </tr>\n",
       "  </tbody>\n",
       "</table>\n",
       "</div>"
      ],
      "text/plain": [
       "  borough        utcTimestamp  userId  reg_time_visits  total_visits  \\\n",
       "0   bronx 2012-04-03 18:00:00     267                3           497   \n",
       "1   bronx 2012-04-04 03:00:00     267                3           497   \n",
       "2   bronx 2012-04-04 12:00:00     267                2           497   \n",
       "3   bronx 2012-04-05 12:00:00     267                2           497   \n",
       "4   bronx 2012-04-07 18:00:00     267                4           497   \n",
       "\n",
       "   probability  used_for_visitor_entropy  \n",
       "0     0.006036                  0.044500  \n",
       "1     0.006036                  0.044500  \n",
       "2     0.004024                  0.032021  \n",
       "3     0.004024                  0.032021  \n",
       "4     0.008048                  0.055993  "
      ]
     },
     "execution_count": 30,
     "metadata": {},
     "output_type": "execute_result"
    }
   ],
   "source": [
    "test_df['used_for_visitor_entropy'] = [-x*np.log2(x) for x in test_df['probability']]\n",
    "test_df.head()"
   ]
  },
  {
   "cell_type": "code",
   "execution_count": 31,
   "metadata": {},
   "outputs": [
    {
     "name": "stdout",
     "output_type": "stream",
     "text": [
      "Number of time intervals:  1593\n"
     ]
    },
    {
     "data": {
      "text/html": [
       "<div>\n",
       "<style>\n",
       "    .dataframe thead tr:only-child th {\n",
       "        text-align: right;\n",
       "    }\n",
       "\n",
       "    .dataframe thead th {\n",
       "        text-align: left;\n",
       "    }\n",
       "\n",
       "    .dataframe tbody tr th {\n",
       "        vertical-align: top;\n",
       "    }\n",
       "</style>\n",
       "<table border=\"1\" class=\"dataframe\">\n",
       "  <thead>\n",
       "    <tr style=\"text-align: right;\">\n",
       "      <th>borough</th>\n",
       "      <th>bronx</th>\n",
       "      <th>brooklyn</th>\n",
       "      <th>manhatten</th>\n",
       "      <th>queens</th>\n",
       "      <th>staten_island</th>\n",
       "    </tr>\n",
       "    <tr>\n",
       "      <th>utcTimestamp</th>\n",
       "      <th></th>\n",
       "      <th></th>\n",
       "      <th></th>\n",
       "      <th></th>\n",
       "      <th></th>\n",
       "    </tr>\n",
       "  </thead>\n",
       "  <tbody>\n",
       "    <tr>\n",
       "      <th>2012-04-03 18:00:00</th>\n",
       "      <td>0.425683</td>\n",
       "      <td>0.961257</td>\n",
       "      <td>4.793225</td>\n",
       "      <td>0.882073</td>\n",
       "      <td>0.041809</td>\n",
       "    </tr>\n",
       "    <tr>\n",
       "      <th>2012-04-03 21:00:00</th>\n",
       "      <td>0.388097</td>\n",
       "      <td>1.847471</td>\n",
       "      <td>8.960947</td>\n",
       "      <td>1.217148</td>\n",
       "      <td>0.163509</td>\n",
       "    </tr>\n",
       "    <tr>\n",
       "      <th>2012-04-04 00:00:00</th>\n",
       "      <td>0.607095</td>\n",
       "      <td>1.332356</td>\n",
       "      <td>6.275626</td>\n",
       "      <td>0.628272</td>\n",
       "      <td>0.201799</td>\n",
       "    </tr>\n",
       "    <tr>\n",
       "      <th>2012-04-04 03:00:00</th>\n",
       "      <td>0.127713</td>\n",
       "      <td>0.883753</td>\n",
       "      <td>1.768109</td>\n",
       "      <td>0.646126</td>\n",
       "      <td>0.048713</td>\n",
       "    </tr>\n",
       "    <tr>\n",
       "      <th>2012-04-04 06:00:00</th>\n",
       "      <td>0.112601</td>\n",
       "      <td>0.434975</td>\n",
       "      <td>0.337310</td>\n",
       "      <td>0.231435</td>\n",
       "      <td>0.028287</td>\n",
       "    </tr>\n",
       "  </tbody>\n",
       "</table>\n",
       "</div>"
      ],
      "text/plain": [
       "borough                 bronx  brooklyn  manhatten    queens  staten_island\n",
       "utcTimestamp                                                               \n",
       "2012-04-03 18:00:00  0.425683  0.961257   4.793225  0.882073       0.041809\n",
       "2012-04-03 21:00:00  0.388097  1.847471   8.960947  1.217148       0.163509\n",
       "2012-04-04 00:00:00  0.607095  1.332356   6.275626  0.628272       0.201799\n",
       "2012-04-04 03:00:00  0.127713  0.883753   1.768109  0.646126       0.048713\n",
       "2012-04-04 06:00:00  0.112601  0.434975   0.337310  0.231435       0.028287"
      ]
     },
     "execution_count": 31,
     "metadata": {},
     "output_type": "execute_result"
    }
   ],
   "source": [
    "# Sum all the individual user entropys for region r and time interval t.\n",
    "visitor_entropy = test_df.groupby(['borough', 'utcTimestamp'])['used_for_visitor_entropy'].sum().unstack(level=0)\n",
    "\n",
    "# Make room for memory\n",
    "del test_df\n",
    "\n",
    "print('Number of time intervals: ', visitor_entropy.shape[0])\n",
    "visitor_entropy.head()"
   ]
  },
  {
   "cell_type": "markdown",
   "metadata": {
    "collapsed": true
   },
   "source": [
    "## Region Popularity: Assess popularity of region r at time interval t."
   ]
  },
  {
   "cell_type": "code",
   "execution_count": 52,
   "metadata": {},
   "outputs": [
    {
     "data": {
      "text/plain": [
       "utcTimestamp\n",
       "2012-04-03 18:00:00    204\n",
       "2012-04-03 21:00:00    344\n",
       "2012-04-04 00:00:00    250\n",
       "2012-04-04 03:00:00    116\n",
       "2012-04-04 06:00:00     49\n",
       "2012-04-04 09:00:00    112\n",
       "2012-04-04 12:00:00    332\n",
       "2012-04-04 15:00:00    250\n",
       "2012-04-04 18:00:00    169\n",
       "2012-04-04 21:00:00    188\n",
       "2012-04-05 00:00:00     49\n",
       "2012-04-05 03:00:00      0\n",
       "2012-04-05 06:00:00     24\n",
       "2012-04-05 09:00:00     97\n",
       "2012-04-05 12:00:00     22\n",
       "2012-04-05 15:00:00      0\n",
       "2012-04-05 18:00:00      0\n",
       "2012-04-05 21:00:00      0\n",
       "2012-04-06 00:00:00      0\n",
       "2012-04-06 03:00:00      0\n",
       "2012-04-06 06:00:00      0\n",
       "2012-04-06 09:00:00      0\n",
       "2012-04-06 12:00:00    201\n",
       "2012-04-06 15:00:00    126\n",
       "2012-04-06 18:00:00      0\n",
       "2012-04-06 21:00:00      0\n",
       "2012-04-07 00:00:00     19\n",
       "2012-04-07 03:00:00      0\n",
       "2012-04-07 06:00:00      0\n",
       "2012-04-07 09:00:00      0\n",
       "                      ... \n",
       "2013-02-12 09:00:00     38\n",
       "2013-02-12 12:00:00     92\n",
       "2013-02-12 15:00:00     88\n",
       "2013-02-12 18:00:00     86\n",
       "2013-02-12 21:00:00     93\n",
       "2013-02-13 00:00:00    116\n",
       "2013-02-13 03:00:00     53\n",
       "2013-02-13 06:00:00     32\n",
       "2013-02-13 09:00:00     52\n",
       "2013-02-13 12:00:00    114\n",
       "2013-02-13 15:00:00     75\n",
       "2013-02-13 18:00:00     65\n",
       "2013-02-13 21:00:00    120\n",
       "2013-02-14 00:00:00    115\n",
       "2013-02-14 03:00:00     54\n",
       "2013-02-14 06:00:00     11\n",
       "2013-02-14 09:00:00     30\n",
       "2013-02-14 12:00:00      9\n",
       "2013-02-14 15:00:00      0\n",
       "2013-02-14 18:00:00      0\n",
       "2013-02-14 21:00:00      0\n",
       "2013-02-15 00:00:00      0\n",
       "2013-02-15 03:00:00      0\n",
       "2013-02-15 06:00:00      0\n",
       "2013-02-15 09:00:00      0\n",
       "2013-02-15 12:00:00      0\n",
       "2013-02-15 15:00:00      0\n",
       "2013-02-15 18:00:00      0\n",
       "2013-02-15 21:00:00      0\n",
       "2013-02-16 00:00:00     39\n",
       "Freq: 3H, Name: userId, Length: 2547, dtype: int64"
      ]
     },
     "execution_count": 52,
     "metadata": {},
     "output_type": "execute_result"
    }
   ],
   "source": [
    "# Count how many total checkins at all time intervals \n",
    "all_checkins_at_time = df.groupby(pd.TimeGrouper(key='utcTimestamp', freq='3H'))['userId'].count()\n",
    "\n",
    "# Divide regions checkins at time interval by total checkins at that time interval.\n",
    "region_popularity = obs_freq.apply(lambda x: x/all_checkins_at_time)\n",
    "all_checkins_at_time"
   ]
  },
  {
   "cell_type": "markdown",
   "metadata": {},
   "source": [
    "## Visitor Ratio:\n"
   ]
  },
  {
   "cell_type": "markdown",
   "metadata": {},
   "source": [
    "To group, count, and regroup, order by descending and take top 4\n",
    "\n",
    "\n",
    "https://stackoverflow.com/questions/27842613/pandas-groupby-sort-within-groups"
   ]
  },
  {
   "cell_type": "code",
   "execution_count": null,
   "metadata": {
    "collapsed": true
   },
   "outputs": [],
   "source": [
    "a = df.groupby('userId').count()\n",
    "a[a.venueId==1]\n",
    "# user_top_venues.reset_index()"
   ]
  },
  {
   "cell_type": "code",
   "execution_count": null,
   "metadata": {
    "collapsed": true
   },
   "outputs": [],
   "source": [
    "# Groupby 'userId' and 'venueId'. Count to see how many times a user checked in that venueId. This will make a series.\n",
    "user_venue_count = df.groupby(['userId', 'venueId']).count().iloc[:,-1]"
   ]
  },
  {
   "cell_type": "code",
   "execution_count": null,
   "metadata": {
    "collapsed": true
   },
   "outputs": [],
   "source": [
    "# Now that you have the count for venue checkins by each user you will re-group by 'userId' and apply a function \n",
    "# to each 'userId' grouping (sort descending and keep top 4) to get back the top 4 visited venues for that user.\n",
    "user_grouping = user_venue_count.groupby(level=0, group_keys=False)  # When calling apply, add group keys to index to identify pieces\n",
    "user_top_venues = user_grouping.apply(lambda x: x.sort_values(ascending=False).head(4))"
   ]
  },
  {
   "cell_type": "code",
   "execution_count": null,
   "metadata": {
    "collapsed": true
   },
   "outputs": [],
   "source": [
    "# Create a reference venue borough df so you can merge the borough to the 'venueId' to the user_top_venues df.\n",
    "ven_borough_df = df.loc[:,['venueId', 'borough']].drop_duplicates()"
   ]
  },
  {
   "cell_type": "code",
   "execution_count": null,
   "metadata": {
    "collapsed": true
   },
   "outputs": [],
   "source": [
    "test = pd.merge(user_top_venues.reset_index(), ven_borough_df.reset_index(), on=['venueId'], how='left')"
   ]
  },
  {
   "cell_type": "code",
   "execution_count": null,
   "metadata": {
    "collapsed": true
   },
   "outputs": [],
   "source": []
  },
  {
   "cell_type": "code",
   "execution_count": null,
   "metadata": {
    "collapsed": true
   },
   "outputs": [],
   "source": []
  },
  {
   "cell_type": "code",
   "execution_count": null,
   "metadata": {
    "collapsed": true
   },
   "outputs": [],
   "source": []
  },
  {
   "cell_type": "code",
   "execution_count": null,
   "metadata": {
    "collapsed": true,
    "scrolled": true
   },
   "outputs": [],
   "source": [
    "import shapefile\n",
    "from shapely.geometry import shape, Point\n",
    "# To install shapely\n",
    "# https://gis.stackexchange.com/questions/38899/geos-and-shapely-installation-on-windows/132743#132743\n",
    "# Download wheel file for the version of python that you use.\n",
    "# https://www.lfd.uci.edu/~gohlke/pythonlibs/#shapely\n",
    "# cd into the location of the wheel file\n",
    "# pip install wheel\n",
    "# pip install name_of_wheel_file.whl\n",
    "\n",
    "# read fileshape\n",
    "r = shapefile.Reader(r\"C:\\Users\\P\\OneDrive\\securitas-assignment\\nyu_2451_34510\\nyu_2451_34510.shp\")\n",
    "\n",
    "# get the shapes\n",
    "shapes = r.shapes()\n",
    "\n",
    "\n",
    "# https://stackoverflow.com/questions/7861196/check-if-a-geopoint-with-latitude-and-longitude-is-within-a-shapefile\n",
    "# build a shapely poolygon from your shape\n",
    "p1 = shape(shapes[0])\n",
    "p2 = shape(shapes[1])\n",
    "p3 = shape(shapes[2])\n",
    "p4 = shape(shapes[3])\n",
    "p5 = shape(shapes[4])\n",
    "\n",
    "test  = fs['longitude'][0], fs['latitude'][0]\n",
    "point = Point(test)\n",
    "print(point)"
   ]
  },
  {
   "cell_type": "code",
   "execution_count": null,
   "metadata": {
    "collapsed": true
   },
   "outputs": [],
   "source": []
  },
  {
   "cell_type": "code",
   "execution_count": null,
   "metadata": {
    "collapsed": true
   },
   "outputs": [],
   "source": [
    "visitor_ratio = generate_data()\n",
    "region_populatiry = generate_data()\n",
    "visitor_entropy = generate_data()\n",
    "visitor_homogen = generate_data()\n",
    "obser_freq = generate_data()\n",
    "visitor_count= generate_data()"
   ]
  },
  {
   "cell_type": "code",
   "execution_count": null,
   "metadata": {
    "collapsed": true
   },
   "outputs": [],
   "source": [
    "visitor_count"
   ]
  },
  {
   "cell_type": "code",
   "execution_count": null,
   "metadata": {
    "collapsed": true
   },
   "outputs": [],
   "source": [
    "def generate_data():\n",
    "    data=np.random.randint(0, 200, (2000, 1))\n",
    "    data[(data<160) & (40<data)]=0\n",
    "    return data"
   ]
  }
 ],
 "metadata": {
  "kernelspec": {
   "display_name": "Python 3",
   "language": "python",
   "name": "python3"
  },
  "language_info": {
   "codemirror_mode": {
    "name": "ipython",
    "version": 3
   },
   "file_extension": ".py",
   "mimetype": "text/x-python",
   "name": "python",
   "nbconvert_exporter": "python",
   "pygments_lexer": "ipython3",
   "version": "3.5.4"
  }
 },
 "nbformat": 4,
 "nbformat_minor": 2
}
