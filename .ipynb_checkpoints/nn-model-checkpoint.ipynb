{
 "cells": [
  {
   "cell_type": "code",
   "execution_count": 2,
   "metadata": {
    "collapsed": true
   },
   "outputs": [],
   "source": [
    "import tensorflow as tf\n",
    "import numpy as np"
   ]
  },
  {
   "cell_type": "code",
   "execution_count": 13,
   "metadata": {},
   "outputs": [
    {
     "data": {
      "text/plain": [
       "(1000,)"
      ]
     },
     "execution_count": 13,
     "metadata": {},
     "output_type": "execute_result"
    }
   ],
   "source": [
    "data = np.random.randn(1000,5)\n",
    "labels = np.random.randint(0, 2, 1000).tolist()"
   ]
  },
  {
   "cell_type": "code",
   "execution_count": 29,
   "metadata": {},
   "outputs": [],
   "source": [
    "tf.reset_default_graph()\n",
    "n_dynamic_features = 5\n",
    "\n",
    "X = tf.placeholder(tf.float32, shape=[None, n_dynamic_features])\n",
    "Y = tf.placeholder(tf.float32, shape=[None, 1])\n",
    "\n",
    "W1 = tf.get_variable(name='W1', shape=[n_dynamic_features, 3],\n",
    "                     initializer=tf.contrib.layers.variance_scaling_initializer())\n",
    "W2 = tf.get_variable(name='W2', shape=[3, 2],\n",
    "                    initializer=tf.contrib.layers.variance_scaling_initializer())\n",
    "\n",
    "b1 = tf.zeros(shape=[1, 3], name='b1')\n",
    "b2 = tf.zeros(shape=[1, 2], name='b2')\n",
    "    \n",
    "    \n",
    "Z1 = tf.add(tf.matmul(X, W1), b1)\n",
    "A1 = tf.nn.relu(Z1)\n",
    "\n",
    "Z2 = tf.add(tf.matmul(A1, W2), b2)\n",
    "\n",
    "cost = tf.reduce_mean(xxxxxxxxxxxxxlogits)\n",
    "\n",
    "optimizer = tf.train.AdamOptimizer(learning_rate=.01).minimize(cost)\n",
    "\n",
    "init = tf.global_variables_initializer()\n",
    "\n",
    "costs = []\n",
    "\n",
    "with tf.Session() as sess:\n",
    "    sess.run(init)\n",
    "    \n",
    "    for "
   ]
  },
  {
   "cell_type": "code",
   "execution_count": 30,
   "metadata": {},
   "outputs": [
    {
     "data": {
      "text/plain": [
       "array([[ 0.        ,  0.        ],\n",
       "       [-0.78222638,  2.51299953],\n",
       "       [ 1.35215831,  0.56157702],\n",
       "       ..., \n",
       "       [ 0.        ,  0.        ],\n",
       "       [ 0.04937426,  0.746005  ],\n",
       "       [ 0.        ,  0.        ]], dtype=float32)"
      ]
     },
     "execution_count": 30,
     "metadata": {},
     "output_type": "execute_result"
    }
   ],
   "source": [
    "sess = tf.InteractiveSession()\n",
    "sess.run(tf.global_variables_initializer())\n",
    "sess.run(Z2, feed_dict={X: data})"
   ]
  },
  {
   "cell_type": "code",
   "execution_count": null,
   "metadata": {
    "collapsed": true
   },
   "outputs": [],
   "source": []
  }
 ],
 "metadata": {
  "kernelspec": {
   "display_name": "Python 3",
   "language": "python",
   "name": "python3"
  },
  "language_info": {
   "codemirror_mode": {
    "name": "ipython",
    "version": 3
   },
   "file_extension": ".py",
   "mimetype": "text/x-python",
   "name": "python",
   "nbconvert_exporter": "python",
   "pygments_lexer": "ipython3",
   "version": "3.6.2"
  }
 },
 "nbformat": 4,
 "nbformat_minor": 2
}
